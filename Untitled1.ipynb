{
 "cells": [
  {
   "cell_type": "code",
   "execution_count": 10,
   "metadata": {},
   "outputs": [
    {
     "name": "stdout",
     "output_type": "stream",
     "text": [
      " | | |\n",
      "-+-+-+-\n",
      " | | |\n",
      "-+-+-+-\n",
      " | | |\n"
     ]
    }
   ],
   "source": [
    "#board display\n",
    "\"\"\"Step 1: Write a function that can print out a board. \n",
    "Set up your board as a list, where each index 1-9 corresponds with a\n",
    "number on a number pad, so you get a 3 by 3 board representation\"\"\"\n",
    "\n",
    "Board = [\" \", \" \", \" \",\n",
    "         \" \", \" \", \" \",\n",
    "         \" \", \" \", \" \",]\n",
    "\n",
    "def boards():\n",
    "    print(Board[0] + \"|\" + Board[1] + \"|\" + Board[2] + \"|\")\n",
    "    print('-+-+-+-')\n",
    "    print (Board[3] + \"|\" + Board[4] + \"|\" + Board[5] + \"|\")\n",
    "    print('-+-+-+-')\n",
    "    print (Board[6] + \"|\" + Board[7] + \"|\" + Board[8] + \"|\")\n",
    "\n",
    "boards()"
   ]
  },
  {
   "cell_type": "code",
   "execution_count": null,
   "metadata": {},
   "outputs": [],
   "source": [
    "\"\"\"Step 2: Write a function that can take in a player input and assign their marker as 'X' or 'O'. \n",
    "    Think about using while loops to continually ask until you get a correct answer.\"\"\"\n",
    "\n",
    "def player_input():\n",
    "    marker = ''\n",
    "    while not (marker == 'X' or marker == 'O'):       \n",
    "        marker = input('Player 1: Do you want to be X or O? ').upper()  \n",
    "    if marker == 'X':       \n",
    "            return ('X', 'O') \n",
    "    else:   \n",
    "            return ('O', 'X')\n",
    "        \n",
    "player_input()"
   ]
  },
  {
   "cell_type": "code",
   "execution_count": null,
   "metadata": {},
   "outputs": [],
   "source": [
    "\"\"\"Step 3: Write a function that takes in the board list object, a marker ('X' or 'O'), and a desired position (number 1-9) and\n",
    "assigns it to the board.\"\"\"\n",
    "\n",
    "def boardlist(board, marker, position):\n",
    "    board[marker] = position\n",
    "    \n",
    "boardlist(tester, *, 3)\n",
    "boards(tester)"
   ]
  },
  {
   "cell_type": "code",
   "execution_count": null,
   "metadata": {},
   "outputs": [],
   "source": [
    "\"\"\"Step 4: Write a function that takes in a board and checks to see if someone has won.\"\"\"\n",
    "\n",
    "def winner():\n",
    "    if board[0] == board[1] = board[2] or board[0] == board[3] = board[6] or board[6] == board[7] = board[8]\n",
    "    or board[2] == board[5] = board[8] or board[0] == board[4] = board[8] or board[2] == board[4] = board[6] \n",
    "    board[3] == board[4] = board[5] or board[1] == board[4] = board[7] "
   ]
  },
  {
   "cell_type": "code",
   "execution_count": null,
   "metadata": {},
   "outputs": [],
   "source": [
    "\"\"\"Step 5: Write a function that uses the random module to randomly decide which player goes first. You may want to lookup\n",
    "random.randint() Return a string of which player went first.\"\"\"\n",
    "import random\n",
    "\n",
    "x = random.randint(0,1)\n",
    "    if x == 0:\n",
    "        return 'player 1'\n",
    "    else: \n",
    "         return \"player 2\"\n"
   ]
  },
  {
   "cell_type": "code",
   "execution_count": null,
   "metadata": {},
   "outputs": [],
   "source": [
    "\"\"\"Step 6: Write a function that returns a boolean indicating whether \n",
    "     a space on the board is freely available.\"\"\"\n",
    "\n",
    "def space_available(board, position):\n",
    "    return board[position] == \" \"\n",
    "    "
   ]
  },
  {
   "cell_type": "code",
   "execution_count": null,
   "metadata": {},
   "outputs": [],
   "source": [
    "\"\"\"Step 7: Write a function that checks if the board is full and returns a boolean value. True if full, False otherwise.\"\"\"\n",
    "\n",
    "def checker(board,position):\n",
    "    if board[position] != \" \":\n",
    "    return True\n",
    "    else:\n",
    "    return False"
   ]
  },
  {
   "cell_type": "code",
   "execution_count": null,
   "metadata": {},
   "outputs": [],
   "source": [
    "\"\"\"Step 8: Write a function that asks for a player's next position (as a number 1-9) and then uses the function \n",
    "from step 6 to check if its a free position. If it is, then return the position for later use.\"\"\"\n",
    "\n",
    "def next_position()"
   ]
  },
  {
   "cell_type": "code",
   "execution_count": null,
   "metadata": {},
   "outputs": [],
   "source": [
    "\"\"\"Step 9: Write a function that asks the player if they want to play again and returns \n",
    "a boolean True if they do want to play again.\"\"\"\n",
    "\n",
    "def ask_player():\n",
    "     return input(\"want to play again? Y or N\").startwith(\"Y\")"
   ]
  },
  {
   "cell_type": "code",
   "execution_count": null,
   "metadata": {},
   "outputs": [],
   "source": [
    "\"\"\"Step 10: Here comes the hard part! Use while loops and the functions you've made to run the game!\"\"\"\n"
   ]
  },
  {
   "cell_type": "code",
   "execution_count": null,
   "metadata": {},
   "outputs": [],
   "source": []
  },
  {
   "cell_type": "code",
   "execution_count": null,
   "metadata": {},
   "outputs": [],
   "source": []
  },
  {
   "cell_type": "code",
   "execution_count": null,
   "metadata": {},
   "outputs": [],
   "source": []
  }
 ],
 "metadata": {
  "kernelspec": {
   "display_name": "Python 3",
   "language": "python",
   "name": "python3"
  },
  "language_info": {
   "codemirror_mode": {
    "name": "ipython",
    "version": 3
   },
   "file_extension": ".py",
   "mimetype": "text/x-python",
   "name": "python",
   "nbconvert_exporter": "python",
   "pygments_lexer": "ipython3",
   "version": "3.7.4"
  }
 },
 "nbformat": 4,
 "nbformat_minor": 4
}
